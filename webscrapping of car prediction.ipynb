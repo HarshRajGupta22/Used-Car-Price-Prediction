{
 "cells": [
  {
   "cell_type": "markdown",
   "id": "095f4f41-b5f4-445f-87b5-c1e7c1bce887",
   "metadata": {},
   "source": [
    ">## <b> Web Scarping of old/used cars </b>\n",
    "<b><em> By: Mr. Harsh Raj Gupta </em></b>\n",
    "\n",
    "<b><em> Internship Batch:25 </em></b>"
   ]
  },
  {
   "cell_type": "markdown",
   "id": "8e595eb6-a899-43c5-a0f2-2eaaff39af7c",
   "metadata": {},
   "source": [
    "\n",
    "### **Objective** :\n",
    " **To Scrape data of used car to predict car price**\n",
    "\n",
    "### **Strategy** :\n",
    "1. Selenium will be used for webscraping data from cardheko.com\n",
    "2. In first part Scraping URL of Used car for different location in India.\n",
    "3. Storing Scrap URL in excel file. \n",
    "4. Selecting car feature to be scrap from website.\n",
    "5. In second part Scraping data from indiviual URL in excel file.\n",
    "6. Exporting final data in Excel file."
   ]
  },
  {
   "cell_type": "markdown",
   "id": "49b1cba1-0e17-4948-96a4-d0c39e516c45",
   "metadata": {},
   "source": [
    "### **Part 1 : Scraping URLs of Used car from Cardheko.com**"
   ]
  },
  {
   "cell_type": "code",
   "execution_count": 1,
   "id": "814eeca5-494c-4585-a822-62fcbbdaeba3",
   "metadata": {},
   "outputs": [],
   "source": [
    "import selenium\n",
    "import pandas as pd\n",
    "from selenium import webdriver\n",
    "from selenium.common.exceptions import NoSuchElementException\n",
    "from selenium.common.exceptions import StaleElementReferenceException\n",
    "import time\n",
    "import warnings\n",
    "warnings.filterwarnings(\"ignore\")"
   ]
  },
  {
   "cell_type": "markdown",
   "id": "44c80860-8875-43c7-92bd-47f2e233e04b",
   "metadata": {},
   "source": [
    "- Importing Webdriver"
   ]
  },
  {
   "cell_type": "code",
   "execution_count": 2,
   "id": "8bcb294a-ea71-40af-8dd3-c882ccf2577d",
   "metadata": {},
   "outputs": [],
   "source": [
    "driver=webdriver.Chrome(r'C:\\chromedriver.exe')"
   ]
  },
  {
   "cell_type": "markdown",
   "id": "bfaffe8d-0318-4f4e-a7ec-8062f23325f0",
   "metadata": {},
   "source": [
    "- opening cardekho Website using webdriver"
   ]
  },
  {
   "cell_type": "code",
   "execution_count": 11,
   "id": "497e2244-5638-4c61-b4ce-51d38a2cdb47",
   "metadata": {},
   "outputs": [],
   "source": [
    "url = \"https://www.cardekho.com/\"\n",
    "driver.get(url)\n",
    "time.sleep(2)"
   ]
  },
  {
   "cell_type": "code",
   "execution_count": 16,
   "id": "cf66ee91-0160-4639-8f24-ab651f37042d",
   "metadata": {},
   "outputs": [],
   "source": [
    "Used_cars=driver.find_element_by_xpath('//li[@data-slug=\"/usedCars\"]/a').get_attribute('href')\n",
    "driver.get(Used_cars)\n",
    "time.sleep(2)"
   ]
  },
  {
   "cell_type": "markdown",
   "id": "16deee98-8841-4087-b3a2-38a6bb7ae815",
   "metadata": {
    "tags": []
   },
   "source": [
    "# - **Here we are Collecting url of different location/ city**"
   ]
  },
  {
   "cell_type": "markdown",
   "id": "2bb495b1-0471-43b6-bcf6-63636d947e98",
   "metadata": {},
   "source": [
    ">##  1.**Extracting URL for Ahmedabad city**"
   ]
  },
  {
   "cell_type": "code",
   "execution_count": 4,
   "id": "f3fd0922-9009-45af-8bdd-5ce41d407f9b",
   "metadata": {},
   "outputs": [],
   "source": [
    "url = \"https://www.cardekho.com/used-cars+in+ahmedabad\"\n",
    "driver.get(url)\n",
    "time.sleep(2)"
   ]
  },
  {
   "cell_type": "code",
   "execution_count": 5,
   "id": "8565c22f-31c3-43dd-9013-cbf9747b0fa3",
   "metadata": {},
   "outputs": [
    {
     "name": "stderr",
     "output_type": "stream",
     "text": [
      "100%|██████████| 400/400 [10:45<00:00,  1.61s/it]\n"
     ]
    }
   ],
   "source": [
    "from tqdm import tqdm\n",
    "for _ in tqdm(range(0,400)):\n",
    "    time.sleep(0.4)\n",
    "    driver.execute_script(\"window.scrollBy(0,1500)\",\"\")\n",
    "    time.sleep(1)\n",
    "    driver.execute_script(\"window.scrollBy(0,-500)\")"
   ]
  },
  {
   "cell_type": "code",
   "execution_count": 6,
   "id": "136d8f8b-ad18-4858-87a4-b72baf2841f2",
   "metadata": {},
   "outputs": [
    {
     "name": "stderr",
     "output_type": "stream",
     "text": [
      "100%|██████████| 701/701 [00:09<00:00, 74.75it/s]\n"
     ]
    }
   ],
   "source": [
    "Car_url_ahmedabad = []\n",
    "car_url_ahmedabad = driver.find_elements_by_xpath('//div[@class=\"gsc_col-xs-7  carsName\"]/a')   \n",
    "for j in tqdm(range(len(car_url_ahmedabad))):\n",
    "    Car_url_ahmedabad.append(car_url_ahmedabad[j].get_attribute('href'))\n",
    "time.sleep(2)"
   ]
  },
  {
   "cell_type": "code",
   "execution_count": 7,
   "id": "44533bcc-f640-4a33-9c62-5918feefb896",
   "metadata": {},
   "outputs": [
    {
     "data": {
      "text/plain": [
       "701"
      ]
     },
     "execution_count": 7,
     "metadata": {},
     "output_type": "execute_result"
    }
   ],
   "source": [
    "len(Car_url_ahmedabad)"
   ]
  },
  {
   "cell_type": "code",
   "execution_count": null,
   "id": "9e1e3760-1f5e-4211-b64d-e0fb207de84d",
   "metadata": {},
   "outputs": [],
   "source": [
    "batch1=df.dataframe(car_url_ahmedabad)"
   ]
  },
  {
   "cell_type": "markdown",
   "id": "cad95290-d6f2-40ad-9cc9-42d5111398ca",
   "metadata": {},
   "source": [
    ">## 2. Extracting URL for Bangalore city"
   ]
  },
  {
   "cell_type": "code",
   "execution_count": 13,
   "id": "8684e04c-29d0-47ed-bcb8-d48920920ad6",
   "metadata": {},
   "outputs": [],
   "source": [
    "driver=webdriver.Chrome(r'C:\\chromedriver.exe')\n",
    "url = \"https://www.cardekho.com/used-cars+in+bangalore\"\n",
    "driver.get(url)\n",
    "time.sleep(2)"
   ]
  },
  {
   "cell_type": "code",
   "execution_count": 14,
   "id": "1f25fcf8-ef3b-43d9-833f-c4eb81e89ac4",
   "metadata": {},
   "outputs": [
    {
     "name": "stderr",
     "output_type": "stream",
     "text": [
      "100%|██████████| 900/900 [24:10<00:00,  1.61s/it] \n"
     ]
    }
   ],
   "source": [
    "from tqdm import tqdm\n",
    "for _ in tqdm(range(0,900)):\n",
    "    time.sleep(0.5)\n",
    "    driver.execute_script(\"window.scrollBy(0,1500)\",\"\")\n",
    "    time.sleep(1)\n",
    "    driver.execute_script(\"window.scrollBy(0,-500)\")"
   ]
  },
  {
   "cell_type": "code",
   "execution_count": 18,
   "id": "4106f31b-b1d4-4fa6-8ac9-9eccf1ee483c",
   "metadata": {},
   "outputs": [
    {
     "name": "stderr",
     "output_type": "stream",
     "text": [
      "100%|██████████| 1500/1500 [00:36<00:00, 41.12it/s]\n"
     ]
    }
   ],
   "source": [
    "Car_url_bangalore = []\n",
    "car_url_bangalore = driver.find_elements_by_xpath('//div[@class=\"gsc_col-xs-7  carsName\"]/a')   \n",
    "for j in tqdm(range(len(car_url_bangalore))):\n",
    "    Car_url_bangalore.append(car_url_bangalore[j].get_attribute('href'))\n",
    "time.sleep(2)"
   ]
  },
  {
   "cell_type": "code",
   "execution_count": 19,
   "id": "0ecdcb75-7de6-4db0-aaee-0f13ff26c009",
   "metadata": {},
   "outputs": [
    {
     "data": {
      "text/plain": [
       "1500"
      ]
     },
     "execution_count": 19,
     "metadata": {},
     "output_type": "execute_result"
    }
   ],
   "source": [
    "len(Car_url_bangalore)"
   ]
  },
  {
   "cell_type": "markdown",
   "id": "ac6e8088-df71-43d1-8818-2eb179dcdb67",
   "metadata": {},
   "source": [
    ">### 3. Extracting URL for Chennai"
   ]
  },
  {
   "cell_type": "code",
   "execution_count": 20,
   "id": "55a3969e-c9f2-4775-b48f-29d044175322",
   "metadata": {},
   "outputs": [],
   "source": [
    "driver=webdriver.Chrome(r'C:\\chromedriver.exe')\n",
    "url = \"https://www.cardekho.com/used-cars+in+chennai\"\n",
    "driver.get(url)\n",
    "time.sleep(2)"
   ]
  },
  {
   "cell_type": "code",
   "execution_count": 21,
   "id": "bae354bd-ca8f-47a6-af74-a1d034c403e7",
   "metadata": {},
   "outputs": [
    {
     "name": "stderr",
     "output_type": "stream",
     "text": [
      "100%|██████████| 400/400 [10:21<00:00,  1.55s/it]\n"
     ]
    }
   ],
   "source": [
    "from tqdm import tqdm\n",
    "for _ in tqdm(range(0,400)):\n",
    "    time.sleep(0.5)\n",
    "    driver.execute_script(\"window.scrollBy(0,1500)\",\"\")\n",
    "    time.sleep(1)\n",
    "    driver.execute_script(\"window.scrollBy(0,-500)\")"
   ]
  },
  {
   "cell_type": "code",
   "execution_count": 23,
   "id": "6a6ae989-e82c-47cd-aba7-3dd84caf18d5",
   "metadata": {},
   "outputs": [
    {
     "name": "stderr",
     "output_type": "stream",
     "text": [
      "100%|██████████| 1034/1034 [00:13<00:00, 77.69it/s]\n"
     ]
    }
   ],
   "source": [
    "Car_url_chennai = []\n",
    "car_url_chennai = driver.find_elements_by_xpath('//div[@class=\"gsc_col-xs-7  carsName\"]/a')   \n",
    "for j in tqdm(range(len(car_url_chennai))):\n",
    "    Car_url_chennai.append(car_url_chennai[j].get_attribute('href'))\n",
    "time.sleep(2)"
   ]
  },
  {
   "cell_type": "markdown",
   "id": "81c98199-f061-4eb7-9f13-48b491fb5771",
   "metadata": {},
   "source": [
    ">### 4. Extracting URL for Dehli-NCR"
   ]
  },
  {
   "cell_type": "code",
   "execution_count": 28,
   "id": "aae24f8f-4815-4808-a80b-5f5b7f18d6cc",
   "metadata": {},
   "outputs": [],
   "source": [
    "driver=webdriver.Chrome(r'C:\\chromedriver.exe')\n",
    "url = \"https://www.cardekho.com/used-cars+in+delhi-ncr\"\n",
    "driver.get(url)\n",
    "time.sleep(2)"
   ]
  },
  {
   "cell_type": "code",
   "execution_count": 29,
   "id": "9a0d14b5-6140-43f0-af33-39c3e30bdb21",
   "metadata": {},
   "outputs": [
    {
     "name": "stderr",
     "output_type": "stream",
     "text": [
      "100%|██████████| 500/500 [24:07<00:00,  2.89s/it]\n"
     ]
    }
   ],
   "source": [
    "from tqdm import tqdm\n",
    "for _ in tqdm(range(0,500)):\n",
    "    time.sleep(0.5)\n",
    "    driver.execute_script(\"window.scrollBy(0,1500)\",\"\")\n",
    "    time.sleep(1)\n",
    "    driver.execute_script(\"window.scrollBy(0,-500)\")"
   ]
  },
  {
   "cell_type": "code",
   "execution_count": 30,
   "id": "db66c674-59ec-41a3-9090-2c8eccfdda98",
   "metadata": {},
   "outputs": [
    {
     "name": "stderr",
     "output_type": "stream",
     "text": [
      "100%|██████████| 3693/3693 [01:21<00:00, 45.21it/s]\n"
     ]
    }
   ],
   "source": [
    "Car_url_delhi_ncr = []\n",
    "car_url_delhi_ncr = driver.find_elements_by_xpath('//div[@class=\"gsc_col-xs-7  carsName\"]/a')   \n",
    "for j in tqdm(range(len(car_url_delhi_ncr))):\n",
    "    Car_url_delhi_ncr.append(car_url_delhi_ncr[j].get_attribute('href'))\n",
    "time.sleep(2)"
   ]
  },
  {
   "cell_type": "code",
   "execution_count": 31,
   "id": "8c151ea0-1ec6-4e7e-8524-96db17c3ef3a",
   "metadata": {},
   "outputs": [],
   "source": [
    "batch1=Car_url_delhi_ncr+Car_url_chennai+car_url_ahmedabad+Car_url_bangalore"
   ]
  },
  {
   "cell_type": "code",
   "execution_count": 34,
   "id": "550d8cab-8ee9-4bd3-a751-8dd6cf647f12",
   "metadata": {},
   "outputs": [
    {
     "data": {
      "text/plain": [
       "6928"
      ]
     },
     "execution_count": 34,
     "metadata": {},
     "output_type": "execute_result"
    }
   ],
   "source": [
    "len(batch1)"
   ]
  },
  {
   "cell_type": "markdown",
   "id": "7f58d66c-58d7-43e6-92d0-694d81cb5800",
   "metadata": {},
   "source": [
    "# "
   ]
  },
  {
   "cell_type": "markdown",
   "id": "03491178-84c4-4a71-94d1-656b3e16058d",
   "metadata": {},
   "source": [
    "## saving the scrap urls in xlsx file using dataframe"
   ]
  },
  {
   "cell_type": "code",
   "execution_count": 32,
   "id": "37a4a93a-fa47-4a83-90aa-a4cd3eeb32b6",
   "metadata": {},
   "outputs": [],
   "source": [
    "import pandas as pd\n",
    "Car_URL_Batch1 = pd.DataFrame({})\n",
    "Car_URL_Batch1['Urls'] = batch1"
   ]
  },
  {
   "cell_type": "code",
   "execution_count": 33,
   "id": "c943c737-10ff-4e10-b46a-1563d00f1c48",
   "metadata": {},
   "outputs": [],
   "source": [
    "Car_URL_Batch1.to_excel('Car_url_batch1.xlsx', index = False)"
   ]
  },
  {
   "cell_type": "markdown",
   "id": "c2ce0fad-21c3-4a67-8e80-1b4e30d0bb3b",
   "metadata": {},
   "source": [
    "**5. Extracting URL for Gurgaon city**"
   ]
  },
  {
   "cell_type": "code",
   "execution_count": 4,
   "id": "2c7f7a0e-9439-4930-8514-ed61edf84236",
   "metadata": {},
   "outputs": [],
   "source": [
    "\n",
    "driver=webdriver.Chrome(r'C:\\chromedriver.exe')\n",
    "url = \"https://www.cardekho.com/used-cars+in+gurgaon\"\n",
    "driver.get(url)\n",
    "time.sleep(2)"
   ]
  },
  {
   "cell_type": "code",
   "execution_count": 5,
   "id": "658fc247-7a23-4291-b875-95cf94687844",
   "metadata": {},
   "outputs": [
    {
     "name": "stderr",
     "output_type": "stream",
     "text": [
      "100%|██████████| 600/600 [17:24<00:00,  1.74s/it]\n"
     ]
    }
   ],
   "source": [
    "from tqdm import tqdm\n",
    "for _ in tqdm(range(0,600)):\n",
    "    time.sleep(0.5)\n",
    "    driver.execute_script(\"window.scrollBy(0,1500)\",\"\")\n",
    "    time.sleep(1)\n",
    "    driver.execute_script(\"window.scrollBy(0,-500)\")"
   ]
  },
  {
   "cell_type": "code",
   "execution_count": 6,
   "id": "89520ce7-8a05-41fc-bff1-5e4678c4f7d6",
   "metadata": {},
   "outputs": [
    {
     "name": "stderr",
     "output_type": "stream",
     "text": [
      "100%|██████████| 817/817 [00:10<00:00, 78.67it/s]\n"
     ]
    }
   ],
   "source": [
    "Car_url_gurgaon = []\n",
    "car_url_gurgaon = driver.find_elements_by_xpath('//div[@class=\"gsc_col-xs-7  carsName\"]/a')   \n",
    "for j in tqdm(range(len(car_url_gurgaon))):\n",
    "    Car_url_gurgaon.append(car_url_gurgaon[j].get_attribute('href'))\n",
    "time.sleep(2)"
   ]
  },
  {
   "cell_type": "markdown",
   "id": "2f670876-842f-4641-a4cf-1009b2a4d746",
   "metadata": {},
   "source": [
    ">## **6. Extracting URL for Telangana**"
   ]
  },
  {
   "cell_type": "code",
   "execution_count": 26,
   "id": "b943180f-c063-48f3-887c-2da65cbf5918",
   "metadata": {},
   "outputs": [],
   "source": [
    "driver=webdriver.Chrome(r'C:\\chromedriver.exe')\n",
    "url = \"https://www.cardekho.com/used-cars+in+telangana\"\n",
    "driver.get(url)\n",
    "time.sleep(2)"
   ]
  },
  {
   "cell_type": "code",
   "execution_count": 27,
   "id": "66b5dba3-03b6-4cc9-8c6d-1ea1a822313e",
   "metadata": {},
   "outputs": [
    {
     "name": "stderr",
     "output_type": "stream",
     "text": [
      "100%|██████████| 200/200 [06:16<00:00,  1.88s/it]\n"
     ]
    }
   ],
   "source": [
    "from tqdm import tqdm\n",
    "for _ in tqdm(range(0,200)):\n",
    "    time.sleep(0.5)\n",
    "    driver.execute_script(\"window.scrollBy(0,1500)\",\"\")\n",
    "    time.sleep(1)\n",
    "    driver.execute_script(\"window.scrollBy(0,-500)\")"
   ]
  },
  {
   "cell_type": "code",
   "execution_count": 28,
   "id": "6d760171-d10f-4b3a-ab66-7b8889d5602f",
   "metadata": {},
   "outputs": [
    {
     "name": "stderr",
     "output_type": "stream",
     "text": [
      "100%|██████████| 1239/1239 [00:19<00:00, 65.20it/s]\n"
     ]
    }
   ],
   "source": [
    "Car_url_telangana = []\n",
    "car_url_telangana = driver.find_elements_by_xpath('//div[@class=\"gsc_col-xs-7  carsName\"]/a')   \n",
    "for j in tqdm(range(len(car_url_telangana))):\n",
    "    Car_url_telangana.append(car_url_telangana[j].get_attribute('href'))\n",
    "time.sleep(2)"
   ]
  },
  {
   "cell_type": "markdown",
   "id": "82f1219b-5495-44ff-8f08-1f8651883180",
   "metadata": {},
   "source": [
    ">## **7. Extracting URL for Maharashtra**"
   ]
  },
  {
   "cell_type": "code",
   "execution_count": 24,
   "id": "1f402056-68d2-405d-af89-ca5cfdaafd3a",
   "metadata": {},
   "outputs": [],
   "source": [
    "driver=webdriver.Chrome(r'C:\\chromedriver.exe')\n",
    "url = \"https://www.cardekho.com/used-cars+in+maharashtra\"\n",
    "driver.get(url)\n",
    "time.sleep(2)"
   ]
  },
  {
   "cell_type": "code",
   "execution_count": 18,
   "id": "ccacec1d-b607-4a4c-9720-646d6bd6a462",
   "metadata": {},
   "outputs": [
    {
     "name": "stderr",
     "output_type": "stream",
     "text": [
      "100%|██████████| 300/300 [03:04<00:00,  1.63it/s]\n"
     ]
    }
   ],
   "source": [
    "from tqdm import tqdm\n",
    "for _ in tqdm(range(0,300)):\n",
    "    driver.execute_script(\"window.scrollBy(0,2500)\",\"\")\n",
    "    time.sleep(0.5)\n",
    "    driver.execute_script(\"window.scrollBy(0,-350)\")"
   ]
  },
  {
   "cell_type": "code",
   "execution_count": 21,
   "id": "5b8e6377-e35e-48e4-a294-433155af7cff",
   "metadata": {},
   "outputs": [
    {
     "name": "stderr",
     "output_type": "stream",
     "text": [
      "100%|██████████| 1820/1820 [00:32<00:00, 56.09it/s]\n"
     ]
    }
   ],
   "source": [
    "Car_url_Maharashtra = []\n",
    "car_url_Maharashtra = driver.find_elements_by_xpath('//div[@class=\"gsc_col-xs-7  carsName\"]/a')   \n",
    "for j in tqdm(range(len(car_url_Maharashtra))):\n",
    "    Car_url_Maharashtra.append(car_url_Maharashtra[j].get_attribute('href'))\n",
    "time.sleep(2)"
   ]
  },
  {
   "cell_type": "markdown",
   "id": "4584bff3-2e8b-43fc-b8d6-33de3e045d59",
   "metadata": {},
   "source": [
    ">## **8. Extracting URL for Karnataka**"
   ]
  },
  {
   "cell_type": "code",
   "execution_count": 7,
   "id": "9a65bf29-9803-44ac-a898-a762c91c695d",
   "metadata": {},
   "outputs": [],
   "source": [
    "url = \"https://www.cardekho.com/used-cars+in+karnataka\"\n",
    "driver.get(url)\n",
    "time.sleep(2)"
   ]
  },
  {
   "cell_type": "code",
   "execution_count": 8,
   "id": "35b56f49-4b6f-47d8-b6d5-7ffb55f74281",
   "metadata": {},
   "outputs": [
    {
     "name": "stderr",
     "output_type": "stream",
     "text": [
      "100%|██████████| 750/750 [09:19<00:00,  1.34it/s]\n"
     ]
    }
   ],
   "source": [
    "from tqdm import tqdm\n",
    "for _ in tqdm(range(0,750)):\n",
    "   \n",
    "    driver.execute_script(\"window.scrollBy(0,1500)\",\"\")\n",
    "    time.sleep(0.4)\n",
    "    driver.execute_script(\"window.scrollBy(0,-500)\")"
   ]
  },
  {
   "cell_type": "code",
   "execution_count": 9,
   "id": "a799a850-11ee-4375-9a60-54e3cb49718a",
   "metadata": {},
   "outputs": [
    {
     "name": "stderr",
     "output_type": "stream",
     "text": [
      "100%|██████████| 2204/2204 [00:41<00:00, 53.68it/s]\n"
     ]
    }
   ],
   "source": [
    "Car_url_Karnataka = []\n",
    "car_url_Karnataka = driver.find_elements_by_xpath('//div[@class=\"gsc_col-xs-7  carsName\"]/a')   \n",
    "for j in tqdm(range(len(car_url_Karnataka))):\n",
    "    Car_url_Karnataka.append(car_url_Karnataka[j].get_attribute('href'))\n",
    "time.sleep(2)"
   ]
  },
  {
   "cell_type": "code",
   "execution_count": null,
   "id": "dc320220-175d-4568-9d6c-765875c23464",
   "metadata": {},
   "outputs": [],
   "source": []
  },
  {
   "cell_type": "code",
   "execution_count": 29,
   "id": "b8b0f6fa-53de-416d-91b5-03288d85f48c",
   "metadata": {},
   "outputs": [],
   "source": [
    "batch2=Car_url_Karnataka+Car_url_Maharashtra+Car_url_gurgaon+Car_url_telangana"
   ]
  },
  {
   "cell_type": "code",
   "execution_count": 30,
   "id": "c891f6a6-6608-4d25-bbc4-6824d103961f",
   "metadata": {},
   "outputs": [],
   "source": [
    "import pandas as pd\n",
    "Car_URL_Batch2 = pd.DataFrame({})\n",
    "Car_URL_Batch2['Urls'] = batch2"
   ]
  },
  {
   "cell_type": "code",
   "execution_count": 31,
   "id": "a0411c4d-96c0-474c-b7e3-446899d1eabf",
   "metadata": {},
   "outputs": [],
   "source": [
    "Car_URL_Batch2.to_excel('Car_url_batch2.xlsx', index = False)"
   ]
  },
  {
   "cell_type": "code",
   "execution_count": 32,
   "id": "9ba4a0f5-7999-4377-84d9-e744a15b2572",
   "metadata": {},
   "outputs": [
    {
     "data": {
      "text/plain": [
       "6080"
      ]
     },
     "execution_count": 32,
     "metadata": {},
     "output_type": "execute_result"
    }
   ],
   "source": [
    "len(batch2)"
   ]
  },
  {
   "cell_type": "code",
   "execution_count": 33,
   "id": "3b15561e-7715-45d3-adf6-ede1084fc154",
   "metadata": {},
   "outputs": [],
   "source": [
    "## **Phase 2 : Scraping features from Indiviudal Link**"
   ]
  },
  {
   "cell_type": "markdown",
   "id": "7cabc09c-638a-4ad5-8652-36efee1247f9",
   "metadata": {},
   "source": [
    "### **Importing excel file contain URLs.**"
   ]
  },
  {
   "cell_type": "code",
   "execution_count": 15,
   "id": "8952a396-185a-4ae6-b06e-ca9b49a1a89a",
   "metadata": {},
   "outputs": [],
   "source": [
    "import pandas as pd"
   ]
  },
  {
   "cell_type": "code",
   "execution_count": 3,
   "id": "6732ed39-2b19-4b1c-a5e9-6e3925788bb5",
   "metadata": {},
   "outputs": [],
   "source": [
    "df = pd.read_excel('Car_url_final.xlsx')"
   ]
  },
  {
   "cell_type": "code",
   "execution_count": 26,
   "id": "f6db52c2-147f-4392-9b60-98a3561d13d5",
   "metadata": {},
   "outputs": [],
   "source": [
    "\n",
    "chrome_options = webdriver.ChromeOptions();\n",
    "chrome_options.add_argument('--user-agent=\"Mozilla/5.0 (Windows Phone 10.0; Android 4.2.1; Microsoft; Lumia 640 XL LTE) AppleWebKit/537.36 (KHTML, like Gecko) Chrome/42.0.2311.135 Mobile Safari/537.36 Edge/12.10166\"')"
   ]
  },
  {
   "cell_type": "markdown",
   "id": "c9a5c4d5-4785-47c1-a532-88e59414346a",
   "metadata": {},
   "source": [
    "#### **As we have scrap around 13008 URL, We Will scrap car details in different batchs.**"
   ]
  },
  {
   "cell_type": "code",
   "execution_count": 4,
   "id": "2ffe4929-6867-4122-b1a2-2d282433ab52",
   "metadata": {},
   "outputs": [],
   "source": [
    "# Making Empty lists\n",
    "Location = []\n",
    "Model = []\n",
    "Variant = []\n",
    "Price = []\n",
    "Make_year =[]\n",
    "Fuel_Type = []\n",
    "KMs_driven = []\n",
    "Engine_displacement = []\n",
    "Transmission = []\n",
    "Milage = []\n",
    "Max_power = []\n",
    "Seats = []\n",
    "Color = []\n",
    "Gear_Box =[]\n",
    "Steering_Type =[]\n",
    "Front_Brake_Type = []\n",
    "Rear_Brake_Type = []\n",
    "Engine_Type = []\n",
    "No_of_cylinder = []\n",
    "Value_Configuration = []\n",
    "Fuel_Suppy_System = []\n",
    "Turbo_charger = []\n",
    "Super_charger = []\n"
   ]
  },
  {
   "cell_type": "code",
   "execution_count": 17,
   "id": "0839be24-ba47-4f9b-818e-62f4131eba1a",
   "metadata": {},
   "outputs": [
    {
     "name": "stderr",
     "output_type": "stream",
     "text": [
      "100%|██████████| 985/985 [1:09:02<00:00,  4.21s/it]\n"
     ]
    }
   ],
   "source": [
    "from tqdm import tqdm\n",
    "for i in tqdm(df['Urls'][6515:7500]):\n",
    "    driver.get(i)\n",
    "    time.sleep(1)\n",
    "    \n",
    "    # Extracting Car Model via xpath\n",
    "    try :\n",
    "        model = driver.find_element_by_xpath('//div[@class=\"gsc_col-xs-12\"]/h1')\n",
    "        Model.append(model.text[5:])\n",
    "    except NoSuchElementException:\n",
    "        try :\n",
    "            model = driver.find_element_by_xpath('//div[@class=\"gsc_container_hold\"]/div/h1[2]')\n",
    "            Model.append(model.text)  \n",
    "        except NoSuchElementException:\n",
    "            pass\n",
    "        \n",
    "    #clicking to view all specifications\n",
    "    try:\n",
    "        view_more = driver.find_element_by_xpath(\"//*[text() = 'View All Specifications' or text() = 'View More']\")\n",
    "        driver.execute_script(\"arguments[0].scrollIntoView();\", view_more)\n",
    "        driver.execute_script(\"arguments[0].click();\", view_more)\n",
    "        \n",
    "    except NoSuchElementException:\n",
    "        try:\n",
    "            Button= driver.find_element_by_xpath('//*[@id=\"topspec\"]/div[2]/a')\n",
    "            Button.click()\n",
    "            time.sleep(1)\n",
    "        except NoSuchElementException:\n",
    "            pass\n",
    "    \n",
    "    time.sleep(0.75)\n",
    "    # Extracting Car Price via xpath\n",
    "    try :\n",
    "        price = driver.find_element_by_xpath('//div[@class=\"priceSection\"]/span[2]')\n",
    "        Price.append(price.text)\n",
    "    except NoSuchElementException:\n",
    "        try :\n",
    "            price = driver.find_element_by_xpath('//div[@class=\"gsc_container_hold\"]/span[1]/span')\n",
    "            Price.append(price.text)\n",
    "        except NoSuchElementException:\n",
    "            pass \n",
    "        \n",
    "    # Extracting Car Make Year via xpath\n",
    "    try :\n",
    "        year = driver.find_element_by_xpath('//*[text()=\"Make Year\"]/following-sibling::div')\n",
    "        Make_year.append(year.text)      \n",
    "    except NoSuchElementException:\n",
    "        try :\n",
    "            year = driver.find_element_by_xpath('//div[@class=\"GenDetailBox\"]/ul/li[1]/div/div')\n",
    "            Make_year.append(year.text)\n",
    "        except NoSuchElementException:\n",
    "            pass\n",
    "    \n",
    "    # Extracting Car Fuel Type via xpath\n",
    "    try :\n",
    "        fuel = driver.find_element_by_xpath('//*[text()=\"Fuel\"]/following-sibling::div')\n",
    "        Fuel_Type.append(fuel.text)\n",
    "    except NoSuchElementException:\n",
    "        try :\n",
    "            fuel = driver.find_element_by_xpath('//div[@class=\"GenDetailBox\"]/ul/li[5]/div/div')\n",
    "            Fuel_Type.append(fuel.text)\n",
    "        except NoSuchElementException:\n",
    "            Fuel_Type.append('-')\n",
    "    \n",
    "    # Extracting KMS driven via xpath\n",
    "    try :\n",
    "        kms = driver.find_element_by_xpath('//*[text()=\"KMs Driven\"]/following-sibling::div')\n",
    "        KMs_driven.append(kms.text.replace('Kms',''))\n",
    "    except NoSuchElementException:\n",
    "        try :\n",
    "            kms = driver.find_element_by_xpath('//div[@class=\"GenDetailBox\"]/ul/li[3]/div/div')\n",
    "            KMs_driven.append(kms.text.replace('kms',''))\n",
    "        except NoSuchElementException:\n",
    "            pass\n",
    "    \n",
    "    # Extracting Engine_displacemet via xpath\n",
    "    try :\n",
    "        engine_disp = driver.find_element_by_xpath('//*[text()=\"Engine Displacement\"]/following-sibling::div')\n",
    "        Engine_displacement.append(engine_disp.text.replace('CC',''))   \n",
    "    except NoSuchElementException:\n",
    "        try :\n",
    "            engine_disp = driver.find_element_by_xpath('//*[text()=\"Engine\"]/following-sibling::div')\n",
    "            Engine_displacement.append(engine_disp.text.replace('CC',''))\n",
    "        except NoSuchElementException:\n",
    "            pass\n",
    "    \n",
    "    # Extracting Transmission via xpath\n",
    "    try :\n",
    "        transmission = driver.find_element_by_xpath('//*[text()=\"Transmission\"]/following-sibling::div')\n",
    "        Transmission.append(transmission.text)\n",
    "    except NoSuchElementException:\n",
    "        try :\n",
    "            transmission = driver.find_element_by_xpath('//div[@class=\"GenDetailBox\"]/ul/li[6]/div/div')\n",
    "            Transmission.append(transmission.text)\n",
    "        except NoSuchElementException:\n",
    "            pass\n",
    "    time.sleep(0.25)\n",
    "    # Extracting Milage via xpath\n",
    "    try :\n",
    "        milage = driver.find_element_by_xpath('//*[text()=\"Mileage\"]/following-sibling::div')\n",
    "        Milage.append(milage.text.replace('kmpl',''))\n",
    "        \n",
    "    except NoSuchElementException:\n",
    "        Milage.append('-')\n",
    "    \n",
    "    # Extracting Max_power via xpath\n",
    "    try :\n",
    "        maxbhp = driver.find_element_by_xpath('//*[text()=\"Max Power\"]/following-sibling::div')\n",
    "        Max_power.append(maxbhp.text.replace('bhp',''))\n",
    "        \n",
    "    except NoSuchElementException:\n",
    "        Max_power.append('-')\n",
    "    \n",
    "    # Extracting Seating capacity via xpath\n",
    "    try :\n",
    "        seats = driver.find_element_by_xpath('//*[text()=\"Seating Capacity\"]/following-sibling::div')\n",
    "        Seats.append(seats.text)\n",
    "        \n",
    "    except NoSuchElementException:\n",
    "        Seats.append('-') \n",
    "        \n",
    "    # Extracting color via xpath\n",
    "    try :\n",
    "        color = driver.find_element_by_xpath('//*[text()=\"Color\"]/following-sibling::div')\n",
    "        Color.append(color.text)    \n",
    "    except NoSuchElementException:\n",
    "        Color.append('-')\n",
    "    \n",
    "    # Extracting Gear_Box via xpath\n",
    "    try :\n",
    "        gear_Box = driver.find_element_by_xpath('//*[text()=\"Gear Box\"]/following-sibling::div')\n",
    "        Gear_Box.append(gear_Box.text)\n",
    "        \n",
    "    except NoSuchElementException:\n",
    "        Gear_Box.append('-')\n",
    "    \n",
    "    # Extracting Steering_Type via xpath\n",
    "    try :\n",
    "        steering_Type = driver.find_element_by_xpath('//*[text()=\"Steering Type\"]/following-sibling::div')\n",
    "        Steering_Type.append(steering_Type.text)\n",
    "        \n",
    "    except NoSuchElementException:\n",
    "        Steering_Type.append('-')\n",
    "    \n",
    "    # Extracting Front_Brake_Type via xpath\n",
    "    try :\n",
    "        front_Brake_Type = driver.find_element_by_xpath('//*[text()=\"Front Brake Type\"]/following-sibling::div')\n",
    "        Front_Brake_Type.append(front_Brake_Type.text)\n",
    "        \n",
    "    except NoSuchElementException:\n",
    "        Front_Brake_Type.append('-')\n",
    "    \n",
    "    # Extracting Rear_Brake_Type via xpath\n",
    "    try :\n",
    "        rear_Brake_Type = driver.find_element_by_xpath('//*[text()=\"Rear Brake Type\"]/following-sibling::div')\n",
    "        Rear_Brake_Type.append(rear_Brake_Type.text)\n",
    "        \n",
    "    except NoSuchElementException:\n",
    "        Rear_Brake_Type.append('-')\n",
    "        \n",
    "    # Extracting Engine_Type via xpath\n",
    "    try :\n",
    "        engine_Type = driver.find_element_by_xpath('//*[text()=\"Engine Type\"]/following-sibling::div')\n",
    "        Engine_Type.append(engine_Type.text)\n",
    "        \n",
    "    except NoSuchElementException:\n",
    "        Engine_Type.append('-')\n",
    "    \n",
    "    # Extracting No_of_cylinder via xpath\n",
    "    try :\n",
    "        no_of_cylinder = driver.find_element_by_xpath('//*[text()=\"No of Cylinder\"]/following-sibling::div')\n",
    "        No_of_cylinder.append(no_of_cylinder.text) \n",
    "    except NoSuchElementException:\n",
    "        try :\n",
    "            no_of_cylinder = driver.find_element_by_xpath('//*[text()=\"No Of Cylinder\"]/following-sibling::div')\n",
    "            No_of_cylinder.append(no_of_cylinder.text)\n",
    "        except NoSuchElementException:\n",
    "            pass\n",
    "    \n",
    "    # Extracting Value_Configuration via xpath\n",
    "    try :\n",
    "        value_Configuration = driver.find_element_by_xpath('//*[text()=\"Value Configuration\"]/following-sibling::div')\n",
    "        Value_Configuration.append(value_Configuration.text)    \n",
    "    except NoSuchElementException:\n",
    "        try :\n",
    "            value_Configuration = driver.find_element_by_xpath('//*[text()=\"Valve Configuration\"]/following-sibling::div')\n",
    "            Value_Configuration.append(value_Configuration.text)  \n",
    "        except NoSuchElementException:\n",
    "            pass\n",
    "        \n",
    "    # Extracting Turbo_charger via xpath\n",
    "    try :\n",
    "        turbo_charger = driver.find_element_by_xpath('//*[text()=\"Turbo Charger\"]/following-sibling::div')\n",
    "        Turbo_charger.append(turbo_charger.text)\n",
    "        \n",
    "    except NoSuchElementException:\n",
    "        Turbo_charger.append('-')\n",
    "    \n",
    "    # Extracting Super_charger via xpath\n",
    "    try :\n",
    "        super_charger = driver.find_element_by_xpath('//*[text()=\"Super Charger\"]/following-sibling::div')\n",
    "        Super_charger.append(super_charger.text)    \n",
    "    except NoSuchElementException:\n",
    "        try :\n",
    "            super_charger = driver.find_element_by_xpath('//*[text()=\"superCharger\"]/following-sibling::div')\n",
    "            Super_charger.append(super_charger.text)   \n",
    "        except NoSuchElementException:\n",
    "            Super_charger.append('-')\n"
   ]
  },
  {
   "cell_type": "code",
   "execution_count": 28,
   "id": "41491c1c-d151-4654-8ee6-57661a564592",
   "metadata": {},
   "outputs": [],
   "source": [
    "driver=webdriver.Chrome(r'C:\\chromedriver.exe')"
   ]
  },
  {
   "cell_type": "code",
   "execution_count": 18,
   "id": "74bd9738-56ce-4737-a3ef-b5b5d23833ed",
   "metadata": {
    "tags": []
   },
   "outputs": [
    {
     "data": {
      "text/html": [
       "<div>\n",
       "<style scoped>\n",
       "    .dataframe tbody tr th:only-of-type {\n",
       "        vertical-align: middle;\n",
       "    }\n",
       "\n",
       "    .dataframe tbody tr th {\n",
       "        vertical-align: top;\n",
       "    }\n",
       "\n",
       "    .dataframe thead th {\n",
       "        text-align: right;\n",
       "    }\n",
       "</style>\n",
       "<table border=\"1\" class=\"dataframe\">\n",
       "  <thead>\n",
       "    <tr style=\"text-align: right;\">\n",
       "      <th></th>\n",
       "      <th>Car Model</th>\n",
       "      <th>Make Year</th>\n",
       "      <th>Fuel Type</th>\n",
       "      <th>KMs driven</th>\n",
       "      <th>Engine Displacement(CC)</th>\n",
       "      <th>Transmission</th>\n",
       "      <th>Milage(kmpl)</th>\n",
       "      <th>Max Power(bhp)</th>\n",
       "      <th>Seating Capacity</th>\n",
       "      <th>Color</th>\n",
       "      <th>Gear Box</th>\n",
       "      <th>Steering Type</th>\n",
       "      <th>Front Brake Type</th>\n",
       "      <th>Rear Brake Type</th>\n",
       "      <th>Engine Type</th>\n",
       "      <th>No of Cylinder</th>\n",
       "      <th>Turbo Charger</th>\n",
       "      <th>Super Charger</th>\n",
       "      <th>Price(Rs)</th>\n",
       "    </tr>\n",
       "  </thead>\n",
       "  <tbody>\n",
       "    <tr>\n",
       "      <th>0</th>\n",
       "      <td>Maruti Alto K10 2010-2014 Vxi</td>\n",
       "      <td>2012</td>\n",
       "      <td>Petrol</td>\n",
       "      <td>27,000 Kms</td>\n",
       "      <td>998</td>\n",
       "      <td>Manual</td>\n",
       "      <td>20.92</td>\n",
       "      <td>67.1</td>\n",
       "      <td>5</td>\n",
       "      <td>Orange</td>\n",
       "      <td>5 Speed</td>\n",
       "      <td>Power</td>\n",
       "      <td>Ventilated Disc</td>\n",
       "      <td>Drum</td>\n",
       "      <td>K Series Petrol Engine</td>\n",
       "      <td>3</td>\n",
       "      <td>No</td>\n",
       "      <td>No</td>\n",
       "      <td>2.95 Lakh*</td>\n",
       "    </tr>\n",
       "    <tr>\n",
       "      <th>1</th>\n",
       "      <td>Hyundai I20 Asta 1.2</td>\n",
       "      <td>2014</td>\n",
       "      <td>Petrol</td>\n",
       "      <td>41,700 Kms</td>\n",
       "      <td>1197</td>\n",
       "      <td>Manual</td>\n",
       "      <td>18.6</td>\n",
       "      <td>81.83</td>\n",
       "      <td>5</td>\n",
       "      <td>Silver</td>\n",
       "      <td>5 Speed</td>\n",
       "      <td>Power</td>\n",
       "      <td>Disc</td>\n",
       "      <td>Drum</td>\n",
       "      <td>Kappa VTVT Petrol Engine</td>\n",
       "      <td>4</td>\n",
       "      <td>No</td>\n",
       "      <td>No</td>\n",
       "      <td>5.64 Lakh*</td>\n",
       "    </tr>\n",
       "    <tr>\n",
       "      <th>2</th>\n",
       "      <td>Maruti Sx4 S Cross Alpha Ddis 200 Sh</td>\n",
       "      <td>2019</td>\n",
       "      <td>Diesel</td>\n",
       "      <td>24,000 Kms</td>\n",
       "      <td>1248</td>\n",
       "      <td>Manual</td>\n",
       "      <td>25.1</td>\n",
       "      <td>88.5</td>\n",
       "      <td>5</td>\n",
       "      <td>Silver</td>\n",
       "      <td>5 Speed</td>\n",
       "      <td>Power</td>\n",
       "      <td>Disc</td>\n",
       "      <td>Disc</td>\n",
       "      <td>DDiS 200 Diesel Engine</td>\n",
       "      <td>4</td>\n",
       "      <td>Yes</td>\n",
       "      <td>No</td>\n",
       "      <td>11.25 Lakh*</td>\n",
       "    </tr>\n",
       "    <tr>\n",
       "      <th>3</th>\n",
       "      <td>Ford Ecosport 1.5 Ti Vct At Titanium Be Bsiv</td>\n",
       "      <td>2016</td>\n",
       "      <td>Petrol</td>\n",
       "      <td>67,909 Kms</td>\n",
       "      <td>1499</td>\n",
       "      <td>Automatic</td>\n",
       "      <td>16.05</td>\n",
       "      <td>110.4</td>\n",
       "      <td>5</td>\n",
       "      <td>White</td>\n",
       "      <td>6 Speed</td>\n",
       "      <td>Power</td>\n",
       "      <td>Ventilated Disc</td>\n",
       "      <td>Drum</td>\n",
       "      <td>Ti-VCT Petrol Engine</td>\n",
       "      <td>4</td>\n",
       "      <td>No</td>\n",
       "      <td>No</td>\n",
       "      <td>7 Lakh*</td>\n",
       "    </tr>\n",
       "    <tr>\n",
       "      <th>4</th>\n",
       "      <td>Toyota Innova 2.5 G (diesel) 7 Seater Bs Iv</td>\n",
       "      <td>2011</td>\n",
       "      <td>Diesel</td>\n",
       "      <td>88,000 Kms</td>\n",
       "      <td>2494</td>\n",
       "      <td>Manual</td>\n",
       "      <td>12.99</td>\n",
       "      <td>100.6</td>\n",
       "      <td>7</td>\n",
       "      <td>Black</td>\n",
       "      <td>5 Speed</td>\n",
       "      <td>Power</td>\n",
       "      <td>Ventilated Disc</td>\n",
       "      <td>Drum</td>\n",
       "      <td>2KD-FTV Diesel Engine</td>\n",
       "      <td>4</td>\n",
       "      <td>Yes</td>\n",
       "      <td>No</td>\n",
       "      <td>8.50 Lakh*</td>\n",
       "    </tr>\n",
       "  </tbody>\n",
       "</table>\n",
       "</div>"
      ],
      "text/plain": [
       "                                      Car Model Make Year Fuel Type  \\\n",
       "0                 Maruti Alto K10 2010-2014 Vxi      2012    Petrol   \n",
       "1                          Hyundai I20 Asta 1.2      2014    Petrol   \n",
       "2          Maruti Sx4 S Cross Alpha Ddis 200 Sh      2019    Diesel   \n",
       "3  Ford Ecosport 1.5 Ti Vct At Titanium Be Bsiv      2016    Petrol   \n",
       "4   Toyota Innova 2.5 G (diesel) 7 Seater Bs Iv      2011    Diesel   \n",
       "\n",
       "   KMs driven Engine Displacement(CC) Transmission Milage(kmpl)  \\\n",
       "0  27,000 Kms                    998        Manual       20.92    \n",
       "1  41,700 Kms                   1197        Manual        18.6    \n",
       "2  24,000 Kms                   1248        Manual        25.1    \n",
       "3  67,909 Kms                   1499     Automatic       16.05    \n",
       "4  88,000 Kms                   2494        Manual       12.99    \n",
       "\n",
       "  Max Power(bhp) Seating Capacity   Color Gear Box Steering Type  \\\n",
       "0           67.1                5  Orange  5 Speed         Power   \n",
       "1          81.83                5  Silver  5 Speed         Power   \n",
       "2           88.5                5  Silver  5 Speed         Power   \n",
       "3          110.4                5   White  6 Speed         Power   \n",
       "4          100.6                7   Black  5 Speed         Power   \n",
       "\n",
       "  Front Brake Type Rear Brake Type               Engine Type No of Cylinder  \\\n",
       "0  Ventilated Disc            Drum    K Series Petrol Engine              3   \n",
       "1             Disc            Drum  Kappa VTVT Petrol Engine              4   \n",
       "2             Disc            Disc    DDiS 200 Diesel Engine              4   \n",
       "3  Ventilated Disc            Drum      Ti-VCT Petrol Engine              4   \n",
       "4  Ventilated Disc            Drum     2KD-FTV Diesel Engine              4   \n",
       "\n",
       "  Turbo Charger Super Charger    Price(Rs)  \n",
       "0            No            No   2.95 Lakh*  \n",
       "1            No            No   5.64 Lakh*  \n",
       "2           Yes            No  11.25 Lakh*  \n",
       "3            No            No      7 Lakh*  \n",
       "4           Yes            No   8.50 Lakh*  "
      ]
     },
     "execution_count": 18,
     "metadata": {},
     "output_type": "execute_result"
    }
   ],
   "source": [
    "data = list(zip(Model, Make_year, Fuel_Type, KMs_driven, Engine_displacement, Transmission, Milage,\n",
    "              Max_power, Seats, Color, Gear_Box, Steering_Type, Front_Brake_Type, Rear_Brake_Type,Engine_Type, No_of_cylinder,\n",
    "              Turbo_charger, Super_charger, Price))\n",
    "Batch9 = pd.DataFrame(data, columns=['Car Model', 'Make Year', 'Fuel Type', 'KMs driven', 'Engine Displacement(CC)',\n",
    "                                   'Transmission', 'Milage(kmpl)', 'Max Power(bhp)', 'Seating Capacity',\n",
    "                                   'Color', 'Gear Box', 'Steering Type', 'Front Brake Type', 'Rear Brake Type',\n",
    "                                     'Engine Type', 'No of Cylinder', \n",
    "                                    'Turbo Charger', 'Super Charger', 'Price(Rs)'])\n",
    "\n",
    "pd.set_option('display.max_columns', None)\n",
    "Batch9.head(5)"
   ]
  },
  {
   "cell_type": "code",
   "execution_count": 12,
   "id": "dafbd371-b3a9-46a2-830b-113fc0ff19cb",
   "metadata": {},
   "outputs": [
    {
     "data": {
      "text/plain": [
       "946"
      ]
     },
     "execution_count": 12,
     "metadata": {},
     "output_type": "execute_result"
    }
   ],
   "source": [
    "len(Batch1) #checking length of batch1"
   ]
  },
  {
   "cell_type": "code",
   "execution_count": 14,
   "id": "eded38f9-7913-4969-a698-3e891257eb62",
   "metadata": {},
   "outputs": [],
   "source": [
    "Batch1.to_csv('Batch 1 (0-1000).csv')"
   ]
  },
  {
   "cell_type": "code",
   "execution_count": 24,
   "id": "9e94aa2e-46fa-45f9-af3a-64d2988d5ef7",
   "metadata": {},
   "outputs": [
    {
     "data": {
      "text/plain": [
       "2354"
      ]
     },
     "execution_count": 24,
     "metadata": {},
     "output_type": "execute_result"
    }
   ],
   "source": [
    "len(Batch2)"
   ]
  },
  {
   "cell_type": "code",
   "execution_count": 29,
   "id": "edb873a9-f429-45b8-b556-eb3bc3f807f1",
   "metadata": {},
   "outputs": [
    {
     "data": {
      "text/plain": [
       "4212"
      ]
     },
     "execution_count": 29,
     "metadata": {},
     "output_type": "execute_result"
    }
   ],
   "source": [
    "len(Batch3)"
   ]
  },
  {
   "cell_type": "code",
   "execution_count": 25,
   "id": "ed6025af-a237-478d-8adb-c489fcb49f28",
   "metadata": {},
   "outputs": [],
   "source": [
    "Batch2.to_csv('Batch 2 (0-2500).csv')"
   ]
  },
  {
   "cell_type": "code",
   "execution_count": 28,
   "id": "c85a91aa-5e50-4841-9008-0f55ec9491ef",
   "metadata": {},
   "outputs": [],
   "source": [
    "Batch3.to_csv('Batch 3 (0-4500).csv')"
   ]
  },
  {
   "cell_type": "code",
   "execution_count": 32,
   "id": "a34c457c-903f-487b-93cf-df85328a61a2",
   "metadata": {},
   "outputs": [
    {
     "data": {
      "text/plain": [
       "4414"
      ]
     },
     "execution_count": 32,
     "metadata": {},
     "output_type": "execute_result"
    }
   ],
   "source": [
    "len(Batch4)"
   ]
  },
  {
   "cell_type": "code",
   "execution_count": 33,
   "id": "a87c84d3-cd17-44bd-9061-e0e00e334144",
   "metadata": {},
   "outputs": [],
   "source": [
    "Batch4.to_csv('Batch 4 (0-4800).csv')"
   ]
  },
  {
   "cell_type": "code",
   "execution_count": 12,
   "id": "8fc8881c-e9de-4b5f-94ec-6ce7a549f5ec",
   "metadata": {},
   "outputs": [
    {
     "data": {
      "text/plain": [
       "531"
      ]
     },
     "execution_count": 12,
     "metadata": {},
     "output_type": "execute_result"
    }
   ],
   "source": [
    "len(Batch5)"
   ]
  },
  {
   "cell_type": "code",
   "execution_count": 13,
   "id": "0a405fe6-b947-4030-b39a-205e834de46e",
   "metadata": {},
   "outputs": [],
   "source": [
    "Batch5.to_csv('Batch 5 (5341-6000).csv')"
   ]
  },
  {
   "cell_type": "code",
   "execution_count": 10,
   "id": "42ebd06d-bf1d-43eb-bb2a-85e9cbd406c1",
   "metadata": {},
   "outputs": [],
   "source": [
    "Batch6.to_csv('Batch 6 (6000-6600).csv')"
   ]
  },
  {
   "cell_type": "code",
   "execution_count": 16,
   "id": "3eb89072-0393-41eb-8d44-32e8e5b611dd",
   "metadata": {},
   "outputs": [
    {
     "data": {
      "text/plain": [
       "257"
      ]
     },
     "execution_count": 16,
     "metadata": {},
     "output_type": "execute_result"
    }
   ],
   "source": [
    "len(Batch6)"
   ]
  },
  {
   "cell_type": "code",
   "execution_count": 20,
   "id": "553a3b8b-3491-4d60-bb8d-ed52fbf2d3eb",
   "metadata": {},
   "outputs": [
    {
     "data": {
      "text/plain": [
       "470"
      ]
     },
     "execution_count": 20,
     "metadata": {},
     "output_type": "execute_result"
    }
   ],
   "source": [
    "len(Batch7)"
   ]
  },
  {
   "cell_type": "code",
   "execution_count": 21,
   "id": "52fbeb70-e609-4703-ad8a-71960f6567c8",
   "metadata": {},
   "outputs": [],
   "source": [
    "Batch7.to_csv('Batch 7 (7500-8000).csv')"
   ]
  },
  {
   "cell_type": "code",
   "execution_count": 14,
   "id": "a26c4ea0-ef3d-453b-9d90-18b36e039edc",
   "metadata": {},
   "outputs": [],
   "source": [
    "Batch8.to_csv('Batch 8 (6284-6600).csv')"
   ]
  },
  {
   "cell_type": "code",
   "execution_count": 15,
   "id": "8d4329fe-f2cc-4449-9b1f-77c7bfeace3e",
   "metadata": {},
   "outputs": [
    {
     "data": {
      "text/plain": [
       "688"
      ]
     },
     "execution_count": 15,
     "metadata": {},
     "output_type": "execute_result"
    }
   ],
   "source": [
    "len(Batch8)"
   ]
  },
  {
   "cell_type": "code",
   "execution_count": 19,
   "id": "a5a60eb3-429f-4606-9795-09a54467a3ed",
   "metadata": {},
   "outputs": [
    {
     "data": {
      "text/plain": [
       "1610"
      ]
     },
     "execution_count": 19,
     "metadata": {},
     "output_type": "execute_result"
    }
   ],
   "source": [
    "len(Batch9)"
   ]
  },
  {
   "cell_type": "code",
   "execution_count": 20,
   "id": "85554e2e-86f9-4cc0-84dd-3451c97a3a93",
   "metadata": {},
   "outputs": [],
   "source": [
    "Batch9.to_csv('Batch 9 (6515-7500).csv')"
   ]
  },
  {
   "cell_type": "code",
   "execution_count": 23,
   "id": "60590164-44e1-4ec8-bd66-1a57e079a3f4",
   "metadata": {},
   "outputs": [
    {
     "data": {
      "text/plain": [
       "916"
      ]
     },
     "execution_count": 23,
     "metadata": {},
     "output_type": "execute_result"
    }
   ],
   "source": [
    "len(Batch10)"
   ]
  },
  {
   "cell_type": "code",
   "execution_count": 24,
   "id": "8705fd35-6f65-4117-bbc6-1e0ce93afe98",
   "metadata": {},
   "outputs": [],
   "source": [
    "Batch10.to_csv('Batch 10 (8000-9000).csv')"
   ]
  },
  {
   "cell_type": "code",
   "execution_count": 9,
   "id": "5bbedaa2-246d-4c49-80a3-1332b0a57110",
   "metadata": {},
   "outputs": [],
   "source": [
    "Batch11.to_csv('Batch 11 (11000-12500).csv')"
   ]
  },
  {
   "cell_type": "code",
   "execution_count": 18,
   "id": "da0fdfa8-c00e-4290-aa08-4a66241a7055",
   "metadata": {},
   "outputs": [
    {
     "data": {
      "text/plain": [
       "(1242, 19)"
      ]
     },
     "execution_count": 18,
     "metadata": {},
     "output_type": "execute_result"
    }
   ],
   "source": [
    "Batch11.shape"
   ]
  },
  {
   "cell_type": "code",
   "execution_count": 48,
   "id": "798425db-0075-49bf-9195-4f3f0e25cd4a",
   "metadata": {},
   "outputs": [
    {
     "data": {
      "text/plain": [
       "1733"
      ]
     },
     "execution_count": 48,
     "metadata": {},
     "output_type": "execute_result"
    }
   ],
   "source": [
    "len(Batch12)"
   ]
  },
  {
   "cell_type": "code",
   "execution_count": 49,
   "id": "5ebbd769-81e6-4c71-b3fa-f5c60ae2cd9a",
   "metadata": {},
   "outputs": [],
   "source": [
    "Batch12.to_csv('Batch 12 (9000-11000).csv')"
   ]
  },
  {
   "cell_type": "code",
   "execution_count": 21,
   "id": "db01ce53-a19a-45f9-a044-3d77139dc689",
   "metadata": {},
   "outputs": [],
   "source": [
    "Batch13.to_csv('Batch 13 (12500-13008).csv')"
   ]
  },
  {
   "cell_type": "code",
   "execution_count": 22,
   "id": "ce24ff57-e2ae-4331-8add-2a325135da00",
   "metadata": {},
   "outputs": [
    {
     "data": {
      "text/plain": [
       "(1916, 19)"
      ]
     },
     "execution_count": 22,
     "metadata": {},
     "output_type": "execute_result"
    }
   ],
   "source": [
    "Batch13.shape"
   ]
  },
  {
   "cell_type": "markdown",
   "id": "0f71e1e4-2fee-4046-a28b-495b0c5f6cf2",
   "metadata": {},
   "source": [
    "## Here the webscrapping of car is done and save the all batch file into comma seperate value file. In the next section we will build the model. "
   ]
  },
  {
   "cell_type": "markdown",
   "id": "dc107434-11b1-4d40-b996-006347f427d9",
   "metadata": {},
   "source": [
    "###  **Almost 10000 cars data has been scraps with 20 features.**"
   ]
  },
  {
   "cell_type": "code",
   "execution_count": null,
   "id": "b97dd450-d20f-413c-8f8a-30f77ce1b8fc",
   "metadata": {},
   "outputs": [],
   "source": []
  }
 ],
 "metadata": {
  "kernelspec": {
   "display_name": "Python 3 (ipykernel)",
   "language": "python",
   "name": "python3"
  },
  "language_info": {
   "codemirror_mode": {
    "name": "ipython",
    "version": 3
   },
   "file_extension": ".py",
   "mimetype": "text/x-python",
   "name": "python",
   "nbconvert_exporter": "python",
   "pygments_lexer": "ipython3",
   "version": "3.9.12"
  }
 },
 "nbformat": 4,
 "nbformat_minor": 5
}
